{
 "cells": [
  {
   "cell_type": "code",
   "execution_count": 457,
   "metadata": {},
   "outputs": [],
   "source": [
    "import numpy as np\n",
    "import pandas as pd\n",
    "\n",
    "master_dir = r\"/Users/gkweston/Desktop/workingFiles/acelab/proj2/data_raw\"\n",
    "bio_dir = master_dir + r\"/bio/bio_04.csv\"\n",
    "motion_dir = master_dir + r\"/motion/motion_04.csv\"\n",
    "\n",
    "motion_fix = r'/Users/gkweston/Desktop/workingFiles/acelab/proj2/data_raw/scratch/motion_fix/'"
   ]
  },
  {
   "cell_type": "code",
   "execution_count": 456,
   "metadata": {},
   "outputs": [],
   "source": [
    "bio_file = pd.read_csv(bio_dir, low_memory=False)\n",
    "bioF = pd.DataFrame(bio_file)"
   ]
  },
  {
   "cell_type": "code",
   "execution_count": 458,
   "metadata": {},
   "outputs": [
    {
     "name": "stderr",
     "output_type": "stream",
     "text": [
      "/Users/gkweston/anaconda3/lib/python3.6/site-packages/ipykernel_launcher.py:4: SettingWithCopyWarning: \n",
      "A value is trying to be set on a copy of a slice from a DataFrame.\n",
      "Try using .loc[row_indexer,col_indexer] = value instead\n",
      "\n",
      "See the caveats in the documentation: http://pandas.pydata.org/pandas-docs/stable/indexing.html#indexing-view-versus-copy\n",
      "  after removing the cwd from sys.path.\n"
     ]
    }
   ],
   "source": [
    "stress_loc = bioF.loc[bioF['startDate']=='STRESSES'].index[0]\n",
    "assess_loc = bioF.loc[bioF['startDate']=='ASSESSMENTS'].index[0]\n",
    "moments = bioF[stress_loc+1 : assess_loc]\n",
    "moments['smoment']=1"
   ]
  },
  {
   "cell_type": "code",
   "execution_count": 455,
   "metadata": {},
   "outputs": [
    {
     "name": "stdout",
     "output_type": "stream",
     "text": [
      "                startDate   hr  smoment\n",
      "6463  2019-10-13 14:29:11  NaN        1\n",
      "6464  2019-10-17 18:20:13  NaN        1\n"
     ]
    },
    {
     "name": "stderr",
     "output_type": "stream",
     "text": [
      "/Users/gkweston/anaconda3/lib/python3.6/site-packages/ipykernel_launcher.py:8: SettingWithCopyWarning: \n",
      "A value is trying to be set on a copy of a slice from a DataFrame.\n",
      "Try using .loc[row_indexer,col_indexer] = value instead\n",
      "\n",
      "See the caveats in the documentation: http://pandas.pydata.org/pandas-docs/stable/indexing.html#indexing-view-versus-copy\n",
      "  \n"
     ]
    }
   ],
   "source": [
    "passer = pd.DataFrame()\n",
    "passer = bioF[0:stress_loc]\n",
    "\n",
    "dateF = pd.DataFrame()\n",
    "dateF = passer\n",
    "dateF['smoment']=0\n",
    "\n",
    "output = pd.DataFrame()\n",
    "output = dateF.merge(moments, how='outer')\n",
    "\n",
    "empty = pd.DataFrame()\n",
    "output = output.set_index('startDate')\n",
    "\n",
    "output = output.sort_values(ascending=True, by='startDate')\n",
    "\n",
    "\n",
    "output.reset_index()\n",
    "output.to_csv(master_dir + r'/test.csv')"
   ]
  },
  {
   "cell_type": "code",
   "execution_count": null,
   "metadata": {},
   "outputs": [],
   "source": []
  },
  {
   "cell_type": "code",
   "execution_count": null,
   "metadata": {},
   "outputs": [],
   "source": []
  }
 ],
 "metadata": {
  "kernelspec": {
   "display_name": "Python 3",
   "language": "python",
   "name": "python3"
  },
  "language_info": {
   "codemirror_mode": {
    "name": "ipython",
    "version": 3
   },
   "file_extension": ".py",
   "mimetype": "text/x-python",
   "name": "python",
   "nbconvert_exporter": "python",
   "pygments_lexer": "ipython3",
   "version": "3.6.5"
  }
 },
 "nbformat": 4,
 "nbformat_minor": 2
}
