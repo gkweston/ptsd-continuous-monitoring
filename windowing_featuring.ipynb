{
 "cells": [
  {
   "cell_type": "code",
   "execution_count": 1,
   "metadata": {},
   "outputs": [],
   "source": [
    "#!/usr/bin/env python3\n",
    "# -*- coding: utf-8 -*-\n",
    "\n",
    "\"\"\"\n",
    "@author:    gkweston\n",
    "github:     https://github.com/gkweston\n",
    "\n",
    "This script takes merged data files and marks stress moments 60 seconds before and after user\n",
    "flagged instances. Then data is windowed by 120 second intervals, dropping any window w/ at\n",
    "least 20 missing heart rate values. As windows are processed, a file is compiled for each\n",
    "participant with applicably extracted heartrate features.\n",
    "\"\"\"\n",
    "\n",
    "import glob as gb\n",
    "import pandas as pd\n",
    "import numpy as np"
   ]
  },
  {
   "cell_type": "code",
   "execution_count": 2,
   "metadata": {},
   "outputs": [],
   "source": [
    "masterDir = r\"/Users/gkweston/git/ptsd-continuous-monitoring/data/\"\n",
    "inputDir = masterDir + r\"prep_output/pre_window/\"\n",
    "outputDir = masterDir + r\"windowed/\"\n",
    "featureDir = masterDir + r\"/features/\"\n",
    "monitorDir = r\"/Users/gkweston/Desktop/workingFiles/acelab/proj2/data_monitor/\"\n",
    "fileList = gb.glob(inputDir + \"*.csv\")"
   ]
  },
  {
   "cell_type": "code",
   "execution_count": 3,
   "metadata": {},
   "outputs": [
    {
     "name": "stderr",
     "output_type": "stream",
     "text": [
      "/Users/gkweston/PyEnvs/ptsdcm/lib/python3.7/site-packages/ipykernel_launcher.py:16: SettingWithCopyWarning: \n",
      "A value is trying to be set on a copy of a slice from a DataFrame\n",
      "\n",
      "See the caveats in the documentation: http://pandas.pydata.org/pandas-docs/stable/user_guide/indexing.html#returning-a-view-versus-a-copy\n",
      "  app.launch_new_instance()\n",
      "/Users/gkweston/PyEnvs/ptsdcm/lib/python3.7/site-packages/ipykernel_launcher.py:32: SettingWithCopyWarning: \n",
      "A value is trying to be set on a copy of a slice from a DataFrame.\n",
      "Try using .loc[row_indexer,col_indexer] = value instead\n",
      "\n",
      "See the caveats in the documentation: http://pandas.pydata.org/pandas-docs/stable/user_guide/indexing.html#returning-a-view-versus-a-copy\n",
      "/Users/gkweston/PyEnvs/ptsdcm/lib/python3.7/site-packages/ipykernel_launcher.py:37: SettingWithCopyWarning: \n",
      "A value is trying to be set on a copy of a slice from a DataFrame.\n",
      "Try using .loc[row_indexer,col_indexer] = value instead\n",
      "\n",
      "See the caveats in the documentation: http://pandas.pydata.org/pandas-docs/stable/user_guide/indexing.html#returning-a-view-versus-a-copy\n"
     ]
    },
    {
     "name": "stdout",
     "output_type": "stream",
     "text": [
      "\n",
      "All processes complete succesfuly.\n"
     ]
    }
   ],
   "source": [
    "# Creating empty dataframe to extract features\n",
    "fCols=['window_num', 'participant', 'mean_hr', \n",
    "       'min_hr', 'max_hr', 'range_hr', 'smoment']\n",
    "feat_df = pd.DataFrame(columns=fCols)\n",
    "\n",
    "# Cleaning up dataframe and updating stressmoment 60 s before and 60 after recorded time\n",
    "for file in fileList:\n",
    "    participant = file[87:89]\n",
    "    open_file = pd.read_csv(file, low_memory=False)\n",
    "    prim_df = pd.DataFrame(open_file)\n",
    "    prim_df.drop('V1', axis=1, inplace=True)\n",
    "    prim_df.drop('Unnamed: 0', axis=1, inplace=True)\n",
    "    prim_df['window'] = np.nan\n",
    "    momentIndex = prim_df[prim_df['smoment']==1].index\n",
    "    for moment in momentIndex:\n",
    "        prim_df['smoment'][moment-60 : moment+60]=1\n",
    "    \n",
    "# Creating temporary dataframe, if leq 20 missing hr in temp append to final dataframe\n",
    "# and add window num\n",
    "    fin_df = pd.DataFrame()\n",
    "    nanThresh = 20\n",
    "    winNum = 1\n",
    "    \n",
    "    for i in range(0, prim_df.shape[0], 120):\n",
    "        temp_df = prim_df[i : i + 120]\n",
    "        hrNanCount = temp_df['hr'].isna().sum()\n",
    "        smCount = temp_df.smoment.count()\n",
    "\n",
    "        if hrNanCount < nanThresh:\n",
    "#     Updating stress moments in each window\n",
    "            if smCount > 0:\n",
    "                temp_df['smoment'] = 1\n",
    "                stress = 1\n",
    "            else:\n",
    "                stress = 0\n",
    "                \n",
    "            temp_df['window'] = winNum\n",
    "#     Extracting features by window specific DataFrame\n",
    "            meanHr = temp_df['hr'].mean(skipna=True)\n",
    "            minHr = temp_df['hr'].min(skipna=True)\n",
    "            maxHr = temp_df['hr'].max(skipna=True)\n",
    "            rngeHr = maxHr - minHr\n",
    "            tFeatData = [[winNum, participant, meanHr, minHr, maxHr, rngeHr, stress]]\n",
    "            tFeat_df = pd.DataFrame(data=tFeatData, columns=fCols)\n",
    "            \n",
    "            feat_df = feat_df.append(tFeat_df)\n",
    "            fin_df = fin_df.append(temp_df)\n",
    "            winNum += 1\n",
    "            \n",
    "# Output final data sets\n",
    "    fin_df.to_csv(outputDir + file[75:])\n",
    "    fin_df.to_csv(monitorDir + file[75:])\n",
    "\n",
    "feat_df.to_csv(featureDir + \"feature.csv\")\n",
    "    \n",
    "print(f\"\\nAll processes complete succesfuly.\")"
   ]
  },
  {
   "cell_type": "code",
   "execution_count": null,
   "metadata": {},
   "outputs": [],
   "source": []
  }
 ],
 "metadata": {
  "kernelspec": {
   "display_name": "Python 3",
   "language": "python",
   "name": "python3"
  },
  "language_info": {
   "codemirror_mode": {
    "name": "ipython",
    "version": 3
   },
   "file_extension": ".py",
   "mimetype": "text/x-python",
   "name": "python",
   "nbconvert_exporter": "python",
   "pygments_lexer": "ipython3",
   "version": "3.7.5"
  }
 },
 "nbformat": 4,
 "nbformat_minor": 2
}
