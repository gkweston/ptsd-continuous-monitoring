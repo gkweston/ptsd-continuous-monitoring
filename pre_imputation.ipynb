{
 "cells": [
  {
   "cell_type": "code",
   "execution_count": 159,
   "metadata": {},
   "outputs": [],
   "source": [
    "# !/user/bin/env python\n",
    "# -*- coding: utf-8 -*-\n",
    "\"\"\"\n",
    "@author: gkweston\n",
    "This script uses string slices to manage directory/file names in I/O\n",
    "thus naming convention must be aligned w/ slices to execute\n",
    "\"\"\"\n",
    "\n",
    "import glob as gb\n",
    "import pandas as pd\n",
    "import numpy as np\n",
    "\n",
    "DEBUG = False"
   ]
  },
  {
   "cell_type": "code",
   "execution_count": 160,
   "metadata": {
    "scrolled": true
   },
   "outputs": [],
   "source": [
    "masterDir = r\"/Users/gkweston/Desktop/workingFiles/acelab/proj2/data_raw\"\n",
    "outputDir = r\"/Users/gkweston/Desktop/workingFiles/acelab/proj2/final_output/\"\n",
    "motionFix = masterDir + r\"/motion_fix/\"\n",
    "bioFix = masterDir + r\"/bio_fix/\""
   ]
  },
  {
   "cell_type": "code",
   "execution_count": 161,
   "metadata": {},
   "outputs": [
    {
     "name": "stdout",
     "output_type": "stream",
     "text": [
      "Premerge processing file: bio_04.csv\n",
      "Premerge processing file: bio_13.csv\n",
      "Premerge processing file: bio_14.csv\n",
      "Premerge processing file: motion_04.csv\n",
      "Premerge processing file: motion_13.csv\n",
      "Premerge processing file: motion_14.csv\n",
      "Completed premerge\n"
     ]
    }
   ],
   "source": [
    "# Read in files and sort\n",
    "bioFiles = gb.glob(masterDir + r\"/bio/\" + \"*.csv\")\n",
    "motionFiles = gb.glob(masterDir + r\"/motion/\" + \"*.csv\")\n",
    "bioFiles.sort()\n",
    "motionFiles.sort()\n",
    "selectBioFiles=[]\n",
    "selectMotFiles=[]\n",
    "\n",
    "\"\"\"  \n",
    "This process inserts stress moments to dataframe by time, but drops all other appended info.\n",
    "It automatically skips users without stress moments.\n",
    "\"\"\"\n",
    "pd.options.mode.chained_assignment = None  # disable false positive copy warning\n",
    "\n",
    "for file in bioFiles:\n",
    "    open_file=pd.read_csv(file, low_memory=False)\n",
    "    bio_df = pd.DataFrame(open_file)\n",
    "    stressLoc=bio_df.loc[bio_df['startDate']=='STRESSES'].index[0]\n",
    "    assessLoc=bio_df.loc[bio_df['startDate']=='ASSESSMENTS'].index[0]\n",
    "    moment_df = bio_df[stressLoc+1:assessLoc]\n",
    "        \n",
    "    if moment_df.shape[0]>0:\n",
    "        selectBioFiles.append(file)\n",
    "        selectMotFiles.append(masterDir + \"/motion/motion_\" + file[67:])\n",
    "        print(f\"Premerge processing file: {file[63:]}\")\n",
    "        moment_df['smoment']=1\n",
    "        bio_drop = pd.DataFrame()\n",
    "        bio_drop = bio_df[0:stressLoc]\n",
    "        bio_out = bio_drop.merge(moment_df, how='outer')\n",
    "        bio_out = bio_out.set_index('startDate')\n",
    "        bio_out = bio_out.sort_values(ascending=True, by='startDate')\n",
    "        bio_out.reset_index()\n",
    "        bio_out.to_csv(bioFix + \"bio_f_\" + file[67:])\n",
    "\n",
    "bioFiles = selectBioFiles\n",
    "motionFiles = selectMotFiles\n",
    "         \n",
    "\"\"\"\n",
    "This process reformats motion files by changing the column hierarchy.\n",
    "\"\"\"\n",
    "for file in motionFiles:\n",
    "    print(f\"Premerge processing file: {file[66:]}\")\n",
    "    open_file=pd.read_csv(file, low_memory=False)\n",
    "    prim_df=pd.DataFrame(open_file)\n",
    "    sec_df=prim_df['ACCELERATION']\n",
    "    sec_df.to_csv(motionFix + \"motion_f_\" + file[73:])\n",
    "\n",
    "# Read in fixed files and sort\n",
    "motionFiles = gb.glob(motionFix + \"/*.csv\")\n",
    "bioFiles = gb.glob(bioFix + \"/*.csv\")\n",
    "motionFiles.sort()\n",
    "bioFiles.sort()\n",
    "\n",
    "print(\"Completed premerge\")"
   ]
  },
  {
   "cell_type": "code",
   "execution_count": 162,
   "metadata": {},
   "outputs": [
    {
     "name": "stdout",
     "output_type": "stream",
     "text": [
      "Merging:\n",
      "Bio file: bio_f_04.csv\n",
      "Motion file: motion_f_04.csv\n",
      "\n",
      "Writing pre_impute_04.csv\n",
      "Merging:\n",
      "Bio file: bio_f_13.csv\n",
      "Motion file: motion_f_13.csv\n",
      "\n",
      "Writing pre_impute_13.csv\n",
      "Merging:\n",
      "Bio file: bio_f_14.csv\n",
      "Motion file: motion_f_14.csv\n",
      "\n",
      "Writing pre_impute_14.csv\n"
     ]
    }
   ],
   "source": [
    "for i in range(len(bioFiles)):\n",
    "    print(\"Merging:\")\n",
    "    print(f\"Bio file: {fixed_b_files[i][67:]}\")\n",
    "    print(f\"Motion file: {fixed_m_files[i][70:]}\")\n",
    "    out_df = pd.DataFrame()\n",
    "    bio_df=pd.DataFrame(pd.read_csv(bioFiles[i], low_memory=False))\n",
    "    bio_df.columns = ['date', 'hr', 'smoment']\n",
    "    motion_df = pd.DataFrame(pd.read_csv(motionFiles[i], low_memory=False))\n",
    "    \n",
    "    merge_df = bio_df.merge(motion_df, how='outer', sort='ascending')\n",
    "#     merge_df['participant']=bioFiles[i][73:75]\n",
    "    \n",
    "#     Moments indexed from 1\n",
    "    momentLis = merge_df.index[merge_df['smoment']==1].tolist()\n",
    "    momentCount = 0\n",
    "    for moment in momentLis:\n",
    "        momentCount+=1 \n",
    "        temp_df = pd.DataFrame()\n",
    "        temp_df = merge_df[moment-60 : moment+60]\n",
    "        temp_df['smoment']=momentCount\n",
    "        temp_df['participant']=bioFiles[i][73:75]\n",
    "        out_df = out_df.append(temp_df)\n",
    "#         temp_df.reset_index()\n",
    "\n",
    "    print(f\"Writing pre_impute_{bioFiles[i][73:]}\")\n",
    "    out_df.to_csv(outputDir + \"pre_impute_\" + bioFiles[i][73:])"
   ]
  },
  {
   "cell_type": "code",
   "execution_count": 163,
   "metadata": {},
   "outputs": [
    {
     "name": "stdout",
     "output_type": "stream",
     "text": [
      "All processes completed successfully.\n"
     ]
    }
   ],
   "source": [
    "print(\"All processes completed successfully.\")"
   ]
  },
  {
   "cell_type": "code",
   "execution_count": null,
   "metadata": {},
   "outputs": [],
   "source": []
  }
 ],
 "metadata": {
  "kernelspec": {
   "display_name": "Python 3",
   "language": "python",
   "name": "python3"
  },
  "language_info": {
   "codemirror_mode": {
    "name": "ipython",
    "version": 3
   },
   "file_extension": ".py",
   "mimetype": "text/x-python",
   "name": "python",
   "nbconvert_exporter": "python",
   "pygments_lexer": "ipython3",
   "version": "3.6.5"
  }
 },
 "nbformat": 4,
 "nbformat_minor": 2
}
