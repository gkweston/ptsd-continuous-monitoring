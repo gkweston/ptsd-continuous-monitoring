{
 "cells": [
  {
   "cell_type": "code",
   "execution_count": 26,
   "metadata": {},
   "outputs": [
    {
     "name": "stdout",
     "output_type": "stream",
     "text": [
      "bio:\n",
      "/Users/gkweston/Desktop/workingFiles/acelab/proj2/data_raw/bio/bio_14.csv\n",
      "/Users/gkweston/Desktop/workingFiles/acelab/proj2/data_raw/bio/bio_15.csv\n",
      "/Users/gkweston/Desktop/workingFiles/acelab/proj2/data_raw/bio/bio_04.csv\n",
      "/Users/gkweston/Desktop/workingFiles/acelab/proj2/data_raw/bio/bio_13.csv\n",
      "/Users/gkweston/Desktop/workingFiles/acelab/proj2/data_raw/bio/bio_25.csv\n",
      "motion:\n",
      "/Users/gkweston/Desktop/workingFiles/acelab/proj2/data_raw/motion/motion_04.csv\n",
      "/Users/gkweston/Desktop/workingFiles/acelab/proj2/data_raw/motion/motion_13.csv\n",
      "/Users/gkweston/Desktop/workingFiles/acelab/proj2/data_raw/motion/motion_14.csv\n",
      "/Users/gkweston/Desktop/workingFiles/acelab/proj2/data_raw/motion/motion_15.csv\n",
      "/Users/gkweston/Desktop/workingFiles/acelab/proj2/data_raw/motion/motion_25.csv\n"
     ]
    }
   ],
   "source": [
    "import glob as gb\n",
    "import pandas as pd\n",
    "import numpy as np\n",
    "\n",
    "master_dir = r\"/Users/gkweston/Desktop/workingFiles/acelab/proj2/data_raw\"\n",
    "bio_dir = master_dir + r\"/bio/\"\n",
    "motion_dir = master_dir + r\"/motion/\"\n",
    "\n",
    "bio_files = gb.glob(bio_dir + \"*.csv\")\n",
    "motion_files = gb.glob(motion_dir + \"*.csv\")\n",
    "\n",
    "motion_fix = r'/Users/gkweston/Desktop/workingFiles/acelab/proj2/data_raw/motion_fix/'\n",
    "bio_fix = r'/Users/gkweston/Desktop/workingFiles/acelab/proj2/data_raw/bio_fix/'"
   ]
  },
  {
   "cell_type": "raw",
   "metadata": {},
   "source": []
  },
  {
   "cell_type": "code",
   "execution_count": 28,
   "metadata": {},
   "outputs": [
    {
     "name": "stdout",
     "output_type": "stream",
     "text": [
      "Premerge processing file: motion_04.csv\n",
      "Premerge processing file: motion_13.csv\n",
      "Premerge processing file: motion_14.csv\n",
      "Premerge processing file: motion_15.csv\n",
      "Premerge processing file: motion_25.csv\n",
      "Premerge processing completed\n"
     ]
    }
   ],
   "source": [
    "for file in motion_files:\n",
    "#   string slices dependant on directory names\n",
    "    print(\"Premerge processing file: \" + file[66:])\n",
    "    open_file=pd.read_csv(file, low_memory=False)\n",
    "    prim_df=pd.DataFrame(open_file)\n",
    "    sec_df=prim_df['ACCELERATION']\n",
    "    sec_df.to_csv(motion_fix + file[65:])\n",
    "    \n",
    "for file in bio_files:\n",
    "    print(\"Premerge processing file:\" + file[67:])\n",
    "    open_file=pd.read_csv(file, low_memory=False)\n",
    "    \n",
    "    bioF = pd.DataFrame(open_file)\n",
    "    moments = pd.DataFrame()\n",
    "    passer = pd.DataFrame()\n",
    "    \n",
    "    stress_loc=bioF.loc[bioF['startDate']=='STRESSES'].index[0]\n",
    "    assess_loc=bioF.loc[bioF['startDate']=='ASSESSMENTS'].index[0]\n",
    "    moments = bioF[stress_loc+1:assess_loc]\n",
    "    moments['smoment']=1\n",
    "    \n",
    "#     temp\n",
    "    passer = pd.DataFrame()\n",
    "    passer = bioF[0:stress_loc]\n",
    "#     end temp\n",
    "\n",
    "    output = pd.DataFrame()\n",
    "    output = dateF.merge(moments, how='outer')\n",
    "    \n",
    "    empty = pd.DataFrame()\n",
    "    output = output.set_index('startData')\n",
    "    output = output.sort_values(ascending=True, by='startDate')\n",
    "    output.reset_index()\n",
    "    output.to_csv(bio_fix + file[67:])\n",
    "\n",
    "\n",
    "final_motion_files = gb.glob(motion_fix + \"/*.csv\")\n",
    "final_motion_files.sort()\n",
    "bio_files.sort()\n",
    "\n",
    "print(\"Premerge processing completed\")"
   ]
  },
  {
   "cell_type": "code",
   "execution_count": 36,
   "metadata": {},
   "outputs": [
    {
     "name": "stdout",
     "output_type": "stream",
     "text": [
      "Merging:\n",
      "Bio file: 04.csv\n",
      "Motion file: 04.csv\n",
      "\n",
      "Participant: 04\n",
      "\n",
      "Merging:\n",
      "Bio file: 13.csv\n",
      "Motion file: 13.csv\n",
      "\n",
      "Participant: 13\n",
      "\n",
      "Merging:\n",
      "Bio file: 14.csv\n",
      "Motion file: 14.csv\n",
      "\n",
      "Participant: 14\n",
      "\n",
      "Merging:\n",
      "Bio file: 15.csv\n",
      "Motion file: 15.csv\n",
      "\n",
      "Participant: 15\n",
      "\n",
      "Merging:\n",
      "Bio file: 25.csv\n",
      "Motion file: 25.csv\n",
      "\n",
      "Participant: 25\n",
      "\n",
      "All processes completed successfully.\n"
     ]
    }
   ],
   "source": [
    "for i in range(len(bio_files)):\n",
    "    print(\"Merging:\")\n",
    "    print(f\"Bio file: {bio_files[i][67:]}\")\n",
    "    print(f\"Motion file: {final_motion_files[i][70:]}\\n\")\n",
    "#     delete this\n",
    "    print(f\"Participant: {bio_files[i][67:69]}\\n\")\n",
    "#     delete this\n",
    "    if bio_files[i][67:]!=final_motion_files[i][70:]:\n",
    "        print(\"\\nUnordered file error\\n\")\n",
    "        break\n",
    "\n",
    "    df=pd.DataFrame(pd.read_csv(bio_files[i], low_memory=False))\n",
    "    df.columns = ['date', 'hr']\n",
    "    temp = pd.DataFrame(pd.read_csv(final_motion_files[i], low_memory=False))\n",
    "    result = df.merge(temp, how='outer', sort='ascending')\n",
    "\n",
    "    result['participant']=bio_files[i][67:69]\n",
    "\n",
    "    result.to_csv(master_dir + r'/final_output/concat_participant' + bio_files[i][67:])\n",
    "\n",
    "print(\"All processes completed successfully.\")"
   ]
  },
  {
   "cell_type": "code",
   "execution_count": null,
   "metadata": {},
   "outputs": [],
   "source": []
  },
  {
   "cell_type": "code",
   "execution_count": null,
   "metadata": {},
   "outputs": [],
   "source": []
  }
 ],
 "metadata": {
  "kernelspec": {
   "display_name": "Python 3",
   "language": "python",
   "name": "python3"
  },
  "language_info": {
   "codemirror_mode": {
    "name": "ipython",
    "version": 3
   },
   "file_extension": ".py",
   "mimetype": "text/x-python",
   "name": "python",
   "nbconvert_exporter": "python",
   "pygments_lexer": "ipython3",
   "version": "3.6.5"
  }
 },
 "nbformat": 4,
 "nbformat_minor": 2
}
