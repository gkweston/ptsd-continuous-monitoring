{
 "cells": [
  {
   "cell_type": "code",
   "execution_count": 56,
   "metadata": {},
   "outputs": [],
   "source": [
    "# !/user/bin/env python\n",
    "# -*- coding: utf-8 -*-\n",
    "\"\"\"\n",
    "@author: gkweston\n",
    "This script uses string slices to manage directory/file names in I/O\n",
    "thus naming convention must be aligned w/ slices to execute\n",
    "\"\"\"\n",
    "\n",
    "import glob as gb\n",
    "import pandas as pd\n",
    "import numpy as np\n",
    "\n",
    "DEBUG = False"
   ]
  },
  {
   "cell_type": "code",
   "execution_count": 57,
   "metadata": {},
   "outputs": [],
   "source": [
    "masterDir = r\"/Users/gkweston/Desktop/workingFiles/acelab/proj2/data_raw\"\n",
    "outputDir = r\"/Users/gkweston/Desktop/workingFiles/acelab/proj2/final_output/\"\n",
    "\n",
    "# list of applicable files\n",
    "bioFiles = gb.glob(masterDir + r\"/bio/\" + \"*.csv\")\n",
    "motionFiles = gb.glob(masterDir + r\"/motion/\" + \"*.csv\")\n",
    "\n",
    "# path to write premerge processed files\n",
    "motionFix = masterDir + r\"/motion_fix/\"\n",
    "bioFix = masterDir + r\"/bio_fix/\""
   ]
  },
  {
   "cell_type": "code",
   "execution_count": 58,
   "metadata": {},
   "outputs": [
    {
     "name": "stdout",
     "output_type": "stream",
     "text": [
      "Premerge processing file: motion_04.csv\n",
      "Premerge processing file: motion_13.csv\n",
      "Premerge processing file: motion_14.csv\n",
      "Premerge processing file: motion_15.csv\n",
      "Premerge processing file: motion_25.csv\n",
      "Premerge processing file: bio_14.csv\n",
      "Premerge processing file: bio_15.csv\n",
      "Premerge processing file: bio_04.csv\n",
      "Premerge processing file: bio_13.csv\n",
      "Premerge processing file: bio_25.csv\n",
      "Premerge processing completed\n"
     ]
    }
   ],
   "source": [
    "\"\"\"\n",
    "This process reformats motion files by changing the column hierarchy\n",
    "\"\"\"\n",
    "for file in motionFiles:\n",
    "    print(\"Premerge processing file: \" + file[66:])\n",
    "    open_file=pd.read_csv(file, low_memory=False)\n",
    "    prim_df=pd.DataFrame(open_file)\n",
    "    sec_df=prim_df['ACCELERATION']\n",
    "    sec_df.to_csv(motionFix + \"motion_f_\" + file[73:])\n",
    "\"\"\"  \n",
    "This process merges stress moments in dataframe by time, but drops all other appended info.\n",
    "Clunky and weird, but works rather quick and efficiently\n",
    "\"\"\"\n",
    "if not DEBUG:\n",
    "    pd.options.mode.chained_assignment = None  # disable false positive copy warning\n",
    "    \n",
    "for file in bioFiles:\n",
    "    print(\"Premerge processing file: \" + file[63:])\n",
    "    open_file=pd.read_csv(file, low_memory=False)\n",
    "    bio_df = pd.DataFrame(open_file)\n",
    "    \n",
    "    stressLoc=bio_df.loc[bio_df['startDate']=='STRESSES'].index[0]\n",
    "    assessLoc=bio_df.loc[bio_df['startDate']=='ASSESSMENTS'].index[0]\n",
    "    moment_df = bio_df[stressLoc+1:assessLoc]\n",
    "    moment_df['smoment']=1\n",
    "\n",
    "    bio_drop = pd.DataFrame()\n",
    "    bio_drop = bio_df[0:stressLoc]\n",
    "\n",
    "    bio_out = bio_drop.merge(moment_df, how='outer')\n",
    "    bio_out = bio_out.set_index('startDate')\n",
    "    bio_out = bio_out.sort_values(ascending=True, by='startDate')\n",
    "    bio_out.reset_index()\n",
    "    bio_out.to_csv(bioFix + \"bio_f_\" + file[67:])\n",
    "\n",
    "# Read in fixed files and sort\n",
    "motionFiles = gb.glob(motionFix + \"/*.csv\")\n",
    "bioFiles = gb.glob(bioFix + \"/*.csv\")\n",
    "motionFiles.sort()\n",
    "bioFiles.sort()\n",
    "\n",
    "print(\"Premerge processing completed\")"
   ]
  },
  {
   "cell_type": "code",
   "execution_count": 59,
   "metadata": {},
   "outputs": [
    {
     "name": "stdout",
     "output_type": "stream",
     "text": [
      "Merging:\n",
      "Bio file: bio_f_04.csv\n",
      "Motion file: motion_f_04.csv\n",
      "\n",
      "Merging:\n",
      "Bio file: bio_f_13.csv\n",
      "Motion file: motion_f_13.csv\n",
      "\n",
      "Merging:\n",
      "Bio file: bio_f_14.csv\n",
      "Motion file: motion_f_14.csv\n",
      "\n",
      "Merging:\n",
      "Bio file: bio_f_15.csv\n",
      "Motion file: motion_f_15.csv\n",
      "\n",
      "Merging:\n",
      "Bio file: bio_f_25.csv\n",
      "Motion file: motion_f_25.csv\n",
      "\n"
     ]
    }
   ],
   "source": [
    "for i in range(len(bioFiles)):\n",
    "    print(\"Merging:\")\n",
    "    print(f\"Bio file: {fixed_b_files[i][67:]}\")\n",
    "    print(f\"Motion file: {fixed_m_files[i][70:]}\\n\")\n",
    "\n",
    "    bio_df=pd.DataFrame(pd.read_csv(bioFiles[i], low_memory=False))\n",
    "    bio_df.columns = ['date', 'hr', 'smoment']\n",
    "    motion_df = pd.DataFrame(pd.read_csv(motionFiles[i], low_memory=False))\n",
    "    merge_df = bio_df.merge(motion_df, how='outer', sort='ascending')\n",
    "    merge_df['participant']=bioFiles[i][73:75]\n",
    "    \n",
    "    if DEBUG:\n",
    "        merge_df.to_csv(outputDir + \"concat_participant\" + bioFiles[i][73:])"
   ]
  },
  {
   "cell_type": "code",
   "execution_count": 60,
   "metadata": {},
   "outputs": [
    {
     "name": "stdout",
     "output_type": "stream",
     "text": [
      "All processes completed successfully.\n"
     ]
    }
   ],
   "source": [
    "print(\"All processes completed successfully.\")"
   ]
  },
  {
   "cell_type": "code",
   "execution_count": null,
   "metadata": {},
   "outputs": [],
   "source": []
  },
  {
   "cell_type": "code",
   "execution_count": null,
   "metadata": {},
   "outputs": [],
   "source": []
  },
  {
   "cell_type": "code",
   "execution_count": null,
   "metadata": {},
   "outputs": [],
   "source": []
  },
  {
   "cell_type": "code",
   "execution_count": null,
   "metadata": {},
   "outputs": [],
   "source": []
  }
 ],
 "metadata": {
  "kernelspec": {
   "display_name": "Python 3",
   "language": "python",
   "name": "python3"
  },
  "language_info": {
   "codemirror_mode": {
    "name": "ipython",
    "version": 3
   },
   "file_extension": ".py",
   "mimetype": "text/x-python",
   "name": "python",
   "nbconvert_exporter": "python",
   "pygments_lexer": "ipython3",
   "version": "3.6.5"
  }
 },
 "nbformat": 4,
 "nbformat_minor": 2
}
