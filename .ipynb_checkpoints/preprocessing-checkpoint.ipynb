{
 "cells": [
  {
   "cell_type": "code",
   "execution_count": 51,
   "metadata": {},
   "outputs": [
    {
     "data": {
      "text/plain": [
       "'\\n@author: gkweston\\nThis script uses string slices to manage directory/file names in I/O\\nthus naming convention must be aligned w/ slices to execute\\n'"
      ]
     },
     "execution_count": 51,
     "metadata": {},
     "output_type": "execute_result"
    }
   ],
   "source": [
    "#!/user/bin/env python\n",
    "# -*- coding: utf-8 -*-\n",
    "\"\"\"\n",
    "@author: gkweston\n",
    "This script uses string slices to manage directory/file names in I/O\n",
    "thus naming convention must be aligned w/ slices to execute\n",
    "\"\"\""
   ]
  },
  {
   "cell_type": "code",
   "execution_count": 52,
   "metadata": {},
   "outputs": [],
   "source": [
    "import glob as gb\n",
    "import pandas as pd\n",
    "import numpy as np\n",
    "\n",
    "master_dir = r\"/Users/gkweston/Desktop/workingFiles/acelab/proj2/data_raw\"\n",
    "output_dir = r\"/Users/gkweston/Desktop/workingFiles/acelab/proj2/final_output/\"\n",
    "\n",
    "# list of applicable files\n",
    "bio_files = gb.glob(master_dir + r\"/bio/\" + \"*.csv\")\n",
    "motion_files = gb.glob(master_dir + r\"/motion/\" + \"*.csv\")\n",
    "\n",
    "# path to write premerge processed files\n",
    "motion_fix = master_dir + r\"/motion_fix/\"\n",
    "bio_fix = master_dir + r\"/bio_fix/\""
   ]
  },
  {
   "cell_type": "code",
   "execution_count": 68,
   "metadata": {},
   "outputs": [
    {
     "name": "stdout",
     "output_type": "stream",
     "text": [
      "Premerge processing file: motion_04.csv\n",
      "Premerge processing file: motion_13.csv\n",
      "Premerge processing file: motion_14.csv\n",
      "Premerge processing file: motion_15.csv\n",
      "Premerge processing file: motion_25.csv\n",
      "Premerge processing file: bio_14.csv\n",
      "Premerge processing file: bio_15.csv\n",
      "Premerge processing file: bio_04.csv\n",
      "Premerge processing file: bio_13.csv\n",
      "Premerge processing file: bio_25.csv\n",
      "Premerge processing completed\n"
     ]
    }
   ],
   "source": [
    "\"\"\"\n",
    "This process reformats motion files by changing the column hierarchy\n",
    "\"\"\"\n",
    "for file in motion_files:\n",
    "    print(\"Premerge processing file: \" + file[66:])\n",
    "    open_file=pd.read_csv(file, low_memory=False)\n",
    "    prim_df=pd.DataFrame(open_file)\n",
    "    sec_df=prim_df['ACCELERATION']\n",
    "    sec_df.to_csv(motion_fix + \"motion_f_\" + file[73:])\n",
    "\"\"\"  \n",
    "This process merges stress moments in dataframe by time, but drops all other appended info.\n",
    "Clunky and weird, but works rather quick and efficiently\n",
    "\"\"\"\n",
    "pd.options.mode.chained_assignment = None  # disable false positive copy warning\n",
    "for file in bio_files:\n",
    "    print(\"Premerge processing file: \" + file[63:])\n",
    "    open_file=pd.read_csv(file, low_memory=False)\n",
    "    bioF = pd.DataFrame(open_file)\n",
    "    \n",
    "    stress_loc=bioF.loc[bioF['startDate']=='STRESSES'].index[0]\n",
    "    assess_loc=bioF.loc[bioF['startDate']=='ASSESSMENTS'].index[0]\n",
    "    moments = bioF[stress_loc+1:assess_loc]\n",
    "    moments['smoment']=1\n",
    "\n",
    "    passer = dateF = output = pd.DataFrame()\n",
    "    passer = bioF[0:stress_loc]\n",
    "    \n",
    "    dateF = passer\n",
    "    dateF['smoment']=0\n",
    "\n",
    "    output = dateF.merge(moments, how='outer')\n",
    "    output = output.set_index('startDate')\n",
    "    output = output.sort_values(ascending=True, by='startDate')\n",
    "    output.reset_index()\n",
    "    output.to_csv(bio_fix + \"bio_f_\" + file[67:])\n",
    "\n",
    "fixed_m_files = gb.glob(motion_fix + \"/*.csv\")\n",
    "fixed_b_files = gb.glob(bio_fix + \"/*.csv\")\n",
    "fixed_m_files.sort()\n",
    "fixed_b_files.sort()\n",
    "\n",
    "print(\"Premerge processing completed\")"
   ]
  },
  {
   "cell_type": "code",
   "execution_count": 66,
   "metadata": {},
   "outputs": [
    {
     "name": "stdout",
     "output_type": "stream",
     "text": [
      "Merging:\n",
      "Bio file: bio_f_04.csv\n",
      "Motion file: motion_f_04.csv\n",
      "\n",
      "Merging:\n",
      "Bio file: bio_f_13.csv\n",
      "Motion file: motion_f_13.csv\n",
      "\n",
      "Merging:\n",
      "Bio file: bio_f_14.csv\n",
      "Motion file: motion_f_14.csv\n",
      "\n",
      "Merging:\n",
      "Bio file: bio_f_15.csv\n",
      "Motion file: motion_f_15.csv\n",
      "\n",
      "Merging:\n",
      "Bio file: bio_f_25.csv\n",
      "Motion file: motion_f_25.csv\n",
      "\n"
     ]
    }
   ],
   "source": [
    "for i in range(len(bio_files)):\n",
    "    print(\"Merging:\")\n",
    "    print(f\"Bio file: {fixed_b_files[i][67:]}\")\n",
    "    print(f\"Motion file: {fixed_m_files[i][70:]}\\n\")\n",
    "\n",
    "    if fixed_b_files[i][73:]!=fixed_m_files[i][79:]:\n",
    "        print(\"\\nUnordered file error\\n\")\n",
    "        break\n",
    "\n",
    "    bf=pd.DataFrame(pd.read_csv(fixed_b_files[i], low_memory=False))\n",
    "    bf.columns = ['date', 'hr', 'smoment']\n",
    "    mf = pd.DataFrame(pd.read_csv(fixed_m_files[i], low_memory=False))\n",
    "    result = bf.merge(mf, how='outer', sort='ascending')\n",
    "    result['participant']=fixed_b_files[i][73:75]\n",
    "\n",
    "    result.to_csv(output_dir + \"concat_participant\" + fixed_b_files[i][73:])"
   ]
  },
  {
   "cell_type": "code",
   "execution_count": 67,
   "metadata": {},
   "outputs": [
    {
     "name": "stdout",
     "output_type": "stream",
     "text": [
      "All processes completed successfully.\n"
     ]
    }
   ],
   "source": [
    "print(\"All processes completed successfully.\")"
   ]
  },
  {
   "cell_type": "code",
   "execution_count": null,
   "metadata": {},
   "outputs": [],
   "source": []
  }
 ],
 "metadata": {
  "kernelspec": {
   "display_name": "Python 3",
   "language": "python",
   "name": "python3"
  },
  "language_info": {
   "codemirror_mode": {
    "name": "ipython",
    "version": 3
   },
   "file_extension": ".py",
   "mimetype": "text/x-python",
   "name": "python",
   "nbconvert_exporter": "python",
   "pygments_lexer": "ipython3",
   "version": "3.6.5"
  }
 },
 "nbformat": 4,
 "nbformat_minor": 2
}
