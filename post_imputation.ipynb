{
 "cells": [
  {
   "cell_type": "code",
   "execution_count": 45,
   "metadata": {},
   "outputs": [],
   "source": [
    "#!/usr/bin/env python3\n",
    "# -*- coding: utf-8 -*-\n",
    "\"\"\"      \n",
    "@author:    gkweston\n",
    "github:     https://github.com/gkweston\n",
    "This script handles data after kalman imputation by removing any\n",
    "stressmoment window with greater that a set missing HR values.\n",
    "\"\"\"\n",
    "\n",
    "import glob as gb\n",
    "import pandas as pd\n",
    "import numpy as np\n",
    "\n",
    "DEBUG = False"
   ]
  },
  {
   "cell_type": "code",
   "execution_count": 46,
   "metadata": {},
   "outputs": [
    {
     "name": "stdout",
     "output_type": "stream",
     "text": [
      "\n",
      "Processing file: Participant7\n",
      "\n",
      "\n",
      "Processing file: Participant8\n",
      "\n",
      "\n",
      "Processing file: Participant9\n",
      "\n"
     ]
    }
   ],
   "source": [
    "fileDir = \"/Users/gkweston/Desktop/workingFiles/acelab/proj2/Kalman Imputed/\"\n",
    "outputDir = \"/Users/gkweston/Desktop/workingFiles/acelab/proj2/final_clean/\"\n",
    "fileLis = gb.glob(fileDir + \"*.csv\")\n",
    "# Set missing NaN threshold here (most windows have > 20 NaN)\n",
    "nanThresh = 50\n",
    "\n",
    "for file in fileLis:\n",
    "    fcount += 1\n",
    "    print(f\"\\nProcessing file: Participant{fcount}\\n\")\n",
    "    curFile = pd.read_csv(file)\n",
    "    file_df = pd.DataFrame(curFile)\n",
    "    file_df['change'] = file_df['smoment'].diff()\n",
    "\n",
    "    numMoments = file_df.iloc[file_df.shape[0]-1]['smoment']\n",
    "    chngLocLis = file_df[file_df['change'] != 0].index\n",
    "\n",
    "    out_df = pd.DataFrame()\n",
    "    for i in range(int(numMoments)):\n",
    "        temp_df = file_df[chngLocLis[i] : chngLocLis[i] + 120]\n",
    "        numOnans = temp_df['hr'].isna().sum()\n",
    "        if numOnans<nanThresh:\n",
    "            out_df = out_df.append(temp_df)\n",
    "\n",
    "    out_df.reset_index(inplace=True)\n",
    "    out_df.drop(['V1', 'Unnamed: 0', 'change', 'index'], axis='columns', inplace=True)\n",
    "    out_df.to_csv(outputDir + \"Participant\"+ str(out_df.iloc[0]['participant']) + \".csv\")"
   ]
  },
  {
   "cell_type": "code",
   "execution_count": null,
   "metadata": {},
   "outputs": [],
   "source": []
  }
 ],
 "metadata": {
  "kernelspec": {
   "display_name": "Python 3",
   "language": "python",
   "name": "python3"
  },
  "language_info": {
   "codemirror_mode": {
    "name": "ipython",
    "version": 3
   },
   "file_extension": ".py",
   "mimetype": "text/x-python",
   "name": "python",
   "nbconvert_exporter": "python",
   "pygments_lexer": "ipython3",
   "version": "3.7.5"
  }
 },
 "nbformat": 4,
 "nbformat_minor": 2
}
