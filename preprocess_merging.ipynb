{
 "cells": [
  {
   "cell_type": "code",
   "execution_count": 1,
   "metadata": {},
   "outputs": [],
   "source": [
    "#!/usr/bin/env python3\n",
    "# -*- coding: utf-8 -*-\n",
    "\"\"\"\n",
    "@author:    gkweston\n",
    "github:     https://github.com/gkweston\n",
    "\n",
    "This scripts takes raw biometric and accelerometer data files for each participant and merges\n",
    "them while retaining datetime accuracy and sorting stress moments into output file. Many of\n",
    "these processes are necessary to retain proper formatting w/o corrupting time information.\n",
    "\n",
    "NOTE: String slices are used to manage I/O naming\n",
    "\"\"\"\n",
    "\n",
    "import glob as gb\n",
    "import pandas as pd\n",
    "import numpy as np"
   ]
  },
  {
   "cell_type": "code",
   "execution_count": 2,
   "metadata": {},
   "outputs": [],
   "source": [
    "masterDir = r\"/Users/gkweston/git/ptsd-continuous-monitoring/data\"\n",
    "outputDir = r\"/Users/gkweston/git/ptsd-continuous-monitoring/data/prep_output/\"\n",
    "monitorDir = r\"/Users/gkweston/Desktop/workingFiles/acelab/proj2/data_monitor/\"\n",
    "\n",
    "# lists of files\n",
    "bioFiles = gb.glob(masterDir + r\"/k_imputed/\" + \"*.csv\")\n",
    "rawBioFiles = gb.glob(masterDir + r\"/raw_bio/\" + \"*.csv\")\n",
    "motionFiles = gb.glob(masterDir + r\"/raw_motion/\" + \"*.csv\")\n",
    "# sort files\n",
    "bioFiles.sort()\n",
    "rawBioFiles.sort()\n",
    "motionFiles.sort()\n",
    "\n",
    "# path to write premerge processed files\n",
    "motionFix = masterDir + r\"/motion_prep/\"\n",
    "bioFix = masterDir + r\"/bio_prep/\""
   ]
  },
  {
   "cell_type": "code",
   "execution_count": 3,
   "metadata": {},
   "outputs": [
    {
     "name": "stdout",
     "output_type": "stream",
     "text": [
      "Premerge processing: motiondata_04.csv\n"
     ]
    },
    {
     "name": "stderr",
     "output_type": "stream",
     "text": [
      "/Users/gkweston/PyEnvs/ptsdcm/lib/python3.7/site-packages/ipykernel_launcher.py:11: FutureWarning: The signature of `Series.to_csv` was aligned to that of `DataFrame.to_csv`, and argument 'header' will change its default value from False to True: please pass an explicit value to suppress this warning.\n",
      "  # This is added back by InteractiveShellApp.init_path()\n"
     ]
    },
    {
     "name": "stdout",
     "output_type": "stream",
     "text": [
      "Premerge processing: motiondata_13.csv\n",
      "Premerge processing: motiondata_14.csv\n",
      "Premerge processing: motiondata_15.csv\n",
      "Premerge processing: motiondata_25.csv\n"
     ]
    }
   ],
   "source": [
    "\"\"\"\n",
    "This process reformats motion files by changing the column hierarchy\n",
    "\"\"\"\n",
    "for file in motionFiles:\n",
    "    fileName = file[63:]\n",
    "    fileNum = file[74:76]\n",
    "    print(\"Premerge processing: \" + fileName)\n",
    "    open_file=pd.read_csv(file, low_memory=False)\n",
    "    prim_df=pd.DataFrame(open_file)\n",
    "    sec_df=prim_df['ACCELERATION']\n",
    "    sec_df.to_csv(motionFix + \"motion_\" + fileNum + \".csv\")"
   ]
  },
  {
   "cell_type": "code",
   "execution_count": 4,
   "metadata": {},
   "outputs": [
    {
     "name": "stdout",
     "output_type": "stream",
     "text": [
      "Premerge processing: biodata_04i.csv\n",
      "Premerge processing: biodata_13i.csv\n",
      "Premerge processing: biodata_14i.csv\n",
      "Premerge processing: biodata_15i.csv\n",
      "Premerge processing: biodata_25i.csv\n",
      "\n",
      "Premerge processing completed\n"
     ]
    }
   ],
   "source": [
    "\"\"\"  \n",
    "This process merges stress moments in dataframe by time, but drops all other appended info.\n",
    "\"\"\"\n",
    "pd.options.mode.chained_assignment = None  # disable false positive copy warning\n",
    "    \n",
    "for i in range(len(bioFiles)):\n",
    "    file = bioFiles[i]\n",
    "    rFile = rawBioFiles[i]\n",
    "    fileName = file[62:]\n",
    "    fileNum = file[70:72]\n",
    "    print(\"Premerge processing: \" + fileName)\n",
    "    \n",
    "    open_file=pd.read_csv(file, low_memory=False)\n",
    "    rOpen_file=pd.read_csv(rFile, low_memory=False)\n",
    "    \n",
    "    bio_df = pd.DataFrame(open_file)\n",
    "    rBio_df = pd.DataFrame(rOpen_file)\n",
    "    \n",
    "# kalman imputation drops index of stress moments, raw files must be used\n",
    "    stressLoc=rBio_df.loc[rBio_df['startDate']=='STRESSES'].index[0]\n",
    "    assessLoc=rBio_df.loc[rBio_df['startDate']=='ASSESSMENTS'].index[0]\n",
    "\n",
    "    moment_df = rBio_df[stressLoc+1:assessLoc]\n",
    "    moment_df['smoment']=1\n",
    "    moment_df.set_index('startDate', inplace=True)\n",
    "\n",
    "    bio_drop = bio_df[0:stressLoc]\n",
    "    bio_drop.set_index('startDate', inplace=True)\n",
    "    \n",
    "    bio_out = pd.concat([bio_drop, moment_df], sort=False)\n",
    "    bio_out.sort_index(ascending=True, inplace=True)\n",
    "\n",
    "    bio_out.drop(\"Unnamed: 0\", axis=1, inplace=True)\n",
    "    bio_out.to_csv(bioFix + \"biodata_\" + fileNum + \"i.csv\")\n",
    "\n",
    "print(\"\\nPremerge processing completed\")"
   ]
  },
  {
   "cell_type": "code",
   "execution_count": 5,
   "metadata": {},
   "outputs": [],
   "source": [
    "# Read in fixed to file lists, sort\n",
    "motionFilesFin = gb.glob(motionFix + \"/*.csv\")\n",
    "bioFilesFin = gb.glob(bioFix + \"/*.csv\")\n",
    "motionFilesFin.sort()\n",
    "bioFilesFin.sort()"
   ]
  },
  {
   "cell_type": "code",
   "execution_count": 6,
   "metadata": {},
   "outputs": [
    {
     "name": "stdout",
     "output_type": "stream",
     "text": [
      "Merging: biodata_04i.csv, motion_04.csv\n",
      "Merging: biodata_13i.csv, motion_13.csv\n",
      "Merging: biodata_14i.csv, motion_14.csv\n",
      "Merging: biodata_15i.csv, motion_15.csv\n",
      "Merging: biodata_25i.csv, motion_25.csv\n",
      "\n",
      "All processes completed successfully.\n"
     ]
    }
   ],
   "source": [
    "for i in range(len(bioFilesFin)):\n",
    "    bFileName = bioFilesFin[i][61:]\n",
    "    mFileName = motionFilesFin[i][64:]\n",
    "    fileNum = bioFilesFin[i][69:71]\n",
    "    \n",
    "    print(f\"Merging: {bFileName}, {mFileName}\")\n",
    "\n",
    "    bio_df=pd.DataFrame(pd.read_csv(bioFilesFin[i], low_memory=False))\n",
    "    bio_df.columns = ['date', 'hr', 'smoment']\n",
    "    \n",
    "    motion_df = pd.DataFrame(pd.read_csv(motionFilesFin[i], low_memory=False))\n",
    "    merge_df = bio_df.merge(motion_df, how='outer', sort='ascending')\n",
    "    \n",
    "    merge_df['participant']=fileNum\n",
    "    merge_df.to_csv(outputDir + r\"participant_\" + fileNum + r\".csv\")\n",
    "    merge_df.to_csv(monitorDir + r\"participant_\" + fileNum + r\".csv\")\n",
    "        \n",
    "print(\"\\nAll processes completed successfully.\")"
   ]
  },
  {
   "cell_type": "code",
   "execution_count": null,
   "metadata": {},
   "outputs": [],
   "source": []
  }
 ],
 "metadata": {
  "kernelspec": {
   "display_name": "Python 3",
   "language": "python",
   "name": "python3"
  },
  "language_info": {
   "codemirror_mode": {
    "name": "ipython",
    "version": 3
   },
   "file_extension": ".py",
   "mimetype": "text/x-python",
   "name": "python",
   "nbconvert_exporter": "python",
   "pygments_lexer": "ipython3",
   "version": "3.7.5"
  }
 },
 "nbformat": 4,
 "nbformat_minor": 2
}
